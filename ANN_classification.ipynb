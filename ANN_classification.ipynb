{
 "cells": [
  {
   "cell_type": "code",
   "execution_count": 1,
   "id": "ec6b8bc0-051c-4841-b029-9813df6be2bc",
   "metadata": {
    "id": "ec6b8bc0-051c-4841-b029-9813df6be2bc"
   },
   "outputs": [],
   "source": [
    "import pandas as pd\n",
    "import numpy as np\n",
    "import matplotlib.pyplot as plt\n",
    "import seaborn as sns"
   ]
  },
  {
   "cell_type": "code",
   "execution_count": 2,
   "id": "8da9791f-c228-4f15-91f9-bdacbaaa3bd7",
   "metadata": {
    "id": "8da9791f-c228-4f15-91f9-bdacbaaa3bd7"
   },
   "outputs": [],
   "source": [
    "df=pd.read_csv('nearest-earth-objects(1910-2024).csv')"
   ]
  },
  {
   "cell_type": "code",
   "execution_count": 3,
   "id": "98104af1-db11-4b0f-bd03-b132e9557988",
   "metadata": {
    "colab": {
     "base_uri": "https://localhost:8080/",
     "height": 206
    },
    "id": "98104af1-db11-4b0f-bd03-b132e9557988",
    "outputId": "0629501b-5b84-4856-b6b8-467d3c1931cb"
   },
   "outputs": [
    {
     "data": {
      "text/html": [
       "<div>\n",
       "<style scoped>\n",
       "    .dataframe tbody tr th:only-of-type {\n",
       "        vertical-align: middle;\n",
       "    }\n",
       "\n",
       "    .dataframe tbody tr th {\n",
       "        vertical-align: top;\n",
       "    }\n",
       "\n",
       "    .dataframe thead th {\n",
       "        text-align: right;\n",
       "    }\n",
       "</style>\n",
       "<table border=\"1\" class=\"dataframe\">\n",
       "  <thead>\n",
       "    <tr style=\"text-align: right;\">\n",
       "      <th></th>\n",
       "      <th>neo_id</th>\n",
       "      <th>name</th>\n",
       "      <th>absolute_magnitude</th>\n",
       "      <th>estimated_diameter_min</th>\n",
       "      <th>estimated_diameter_max</th>\n",
       "      <th>orbiting_body</th>\n",
       "      <th>relative_velocity</th>\n",
       "      <th>miss_distance</th>\n",
       "      <th>is_hazardous</th>\n",
       "    </tr>\n",
       "  </thead>\n",
       "  <tbody>\n",
       "    <tr>\n",
       "      <th>0</th>\n",
       "      <td>2162117</td>\n",
       "      <td>162117 (1998 SD15)</td>\n",
       "      <td>19.14</td>\n",
       "      <td>0.394962</td>\n",
       "      <td>0.883161</td>\n",
       "      <td>Earth</td>\n",
       "      <td>71745.401048</td>\n",
       "      <td>5.814362e+07</td>\n",
       "      <td>False</td>\n",
       "    </tr>\n",
       "    <tr>\n",
       "      <th>1</th>\n",
       "      <td>2349507</td>\n",
       "      <td>349507 (2008 QY)</td>\n",
       "      <td>18.50</td>\n",
       "      <td>0.530341</td>\n",
       "      <td>1.185878</td>\n",
       "      <td>Earth</td>\n",
       "      <td>109949.757148</td>\n",
       "      <td>5.580105e+07</td>\n",
       "      <td>True</td>\n",
       "    </tr>\n",
       "    <tr>\n",
       "      <th>2</th>\n",
       "      <td>2455415</td>\n",
       "      <td>455415 (2003 GA)</td>\n",
       "      <td>21.45</td>\n",
       "      <td>0.136319</td>\n",
       "      <td>0.304818</td>\n",
       "      <td>Earth</td>\n",
       "      <td>24865.506798</td>\n",
       "      <td>6.720689e+07</td>\n",
       "      <td>False</td>\n",
       "    </tr>\n",
       "    <tr>\n",
       "      <th>3</th>\n",
       "      <td>3132126</td>\n",
       "      <td>(2002 PB)</td>\n",
       "      <td>20.63</td>\n",
       "      <td>0.198863</td>\n",
       "      <td>0.444672</td>\n",
       "      <td>Earth</td>\n",
       "      <td>78890.076805</td>\n",
       "      <td>3.039644e+07</td>\n",
       "      <td>False</td>\n",
       "    </tr>\n",
       "    <tr>\n",
       "      <th>4</th>\n",
       "      <td>3557844</td>\n",
       "      <td>(2011 DW)</td>\n",
       "      <td>22.70</td>\n",
       "      <td>0.076658</td>\n",
       "      <td>0.171412</td>\n",
       "      <td>Earth</td>\n",
       "      <td>56036.519484</td>\n",
       "      <td>6.311863e+07</td>\n",
       "      <td>False</td>\n",
       "    </tr>\n",
       "  </tbody>\n",
       "</table>\n",
       "</div>"
      ],
      "text/plain": [
       "    neo_id                name  absolute_magnitude  estimated_diameter_min  \\\n",
       "0  2162117  162117 (1998 SD15)               19.14                0.394962   \n",
       "1  2349507    349507 (2008 QY)               18.50                0.530341   \n",
       "2  2455415    455415 (2003 GA)               21.45                0.136319   \n",
       "3  3132126           (2002 PB)               20.63                0.198863   \n",
       "4  3557844           (2011 DW)               22.70                0.076658   \n",
       "\n",
       "   estimated_diameter_max orbiting_body  relative_velocity  miss_distance  \\\n",
       "0                0.883161         Earth       71745.401048   5.814362e+07   \n",
       "1                1.185878         Earth      109949.757148   5.580105e+07   \n",
       "2                0.304818         Earth       24865.506798   6.720689e+07   \n",
       "3                0.444672         Earth       78890.076805   3.039644e+07   \n",
       "4                0.171412         Earth       56036.519484   6.311863e+07   \n",
       "\n",
       "   is_hazardous  \n",
       "0         False  \n",
       "1          True  \n",
       "2         False  \n",
       "3         False  \n",
       "4         False  "
      ]
     },
     "execution_count": 3,
     "metadata": {},
     "output_type": "execute_result"
    }
   ],
   "source": [
    "df.head()"
   ]
  },
  {
   "cell_type": "code",
   "execution_count": 4,
   "id": "3f2b5ea1-1a5d-48be-927d-65f3b3c27625",
   "metadata": {
    "colab": {
     "base_uri": "https://localhost:8080/"
    },
    "id": "3f2b5ea1-1a5d-48be-927d-65f3b3c27625",
    "outputId": "ab7ad180-7257-47eb-ab60-1975d92d5494"
   },
   "outputs": [
    {
     "data": {
      "text/plain": [
       "array(['Earth'], dtype=object)"
      ]
     },
     "execution_count": 4,
     "metadata": {},
     "output_type": "execute_result"
    }
   ],
   "source": [
    "df.orbiting_body.unique()"
   ]
  },
  {
   "cell_type": "code",
   "execution_count": 5,
   "id": "3137c5c3-3d09-48f0-b427-99577d93ae00",
   "metadata": {
    "id": "3137c5c3-3d09-48f0-b427-99577d93ae00"
   },
   "outputs": [],
   "source": [
    "df.drop(['neo_id','name','orbiting_body'],axis=1,inplace=True)"
   ]
  },
  {
   "cell_type": "code",
   "execution_count": 6,
   "id": "bab03594-26b8-4df8-a823-bcfe352d469a",
   "metadata": {
    "colab": {
     "base_uri": "https://localhost:8080/",
     "height": 206
    },
    "id": "bab03594-26b8-4df8-a823-bcfe352d469a",
    "outputId": "266f6412-4f7c-4a41-c457-69490c478f42"
   },
   "outputs": [
    {
     "data": {
      "text/html": [
       "<div>\n",
       "<style scoped>\n",
       "    .dataframe tbody tr th:only-of-type {\n",
       "        vertical-align: middle;\n",
       "    }\n",
       "\n",
       "    .dataframe tbody tr th {\n",
       "        vertical-align: top;\n",
       "    }\n",
       "\n",
       "    .dataframe thead th {\n",
       "        text-align: right;\n",
       "    }\n",
       "</style>\n",
       "<table border=\"1\" class=\"dataframe\">\n",
       "  <thead>\n",
       "    <tr style=\"text-align: right;\">\n",
       "      <th></th>\n",
       "      <th>absolute_magnitude</th>\n",
       "      <th>estimated_diameter_min</th>\n",
       "      <th>estimated_diameter_max</th>\n",
       "      <th>relative_velocity</th>\n",
       "      <th>miss_distance</th>\n",
       "      <th>is_hazardous</th>\n",
       "    </tr>\n",
       "  </thead>\n",
       "  <tbody>\n",
       "    <tr>\n",
       "      <th>0</th>\n",
       "      <td>19.14</td>\n",
       "      <td>0.394962</td>\n",
       "      <td>0.883161</td>\n",
       "      <td>71745.401048</td>\n",
       "      <td>5.814362e+07</td>\n",
       "      <td>False</td>\n",
       "    </tr>\n",
       "    <tr>\n",
       "      <th>1</th>\n",
       "      <td>18.50</td>\n",
       "      <td>0.530341</td>\n",
       "      <td>1.185878</td>\n",
       "      <td>109949.757148</td>\n",
       "      <td>5.580105e+07</td>\n",
       "      <td>True</td>\n",
       "    </tr>\n",
       "    <tr>\n",
       "      <th>2</th>\n",
       "      <td>21.45</td>\n",
       "      <td>0.136319</td>\n",
       "      <td>0.304818</td>\n",
       "      <td>24865.506798</td>\n",
       "      <td>6.720689e+07</td>\n",
       "      <td>False</td>\n",
       "    </tr>\n",
       "    <tr>\n",
       "      <th>3</th>\n",
       "      <td>20.63</td>\n",
       "      <td>0.198863</td>\n",
       "      <td>0.444672</td>\n",
       "      <td>78890.076805</td>\n",
       "      <td>3.039644e+07</td>\n",
       "      <td>False</td>\n",
       "    </tr>\n",
       "    <tr>\n",
       "      <th>4</th>\n",
       "      <td>22.70</td>\n",
       "      <td>0.076658</td>\n",
       "      <td>0.171412</td>\n",
       "      <td>56036.519484</td>\n",
       "      <td>6.311863e+07</td>\n",
       "      <td>False</td>\n",
       "    </tr>\n",
       "  </tbody>\n",
       "</table>\n",
       "</div>"
      ],
      "text/plain": [
       "   absolute_magnitude  estimated_diameter_min  estimated_diameter_max  \\\n",
       "0               19.14                0.394962                0.883161   \n",
       "1               18.50                0.530341                1.185878   \n",
       "2               21.45                0.136319                0.304818   \n",
       "3               20.63                0.198863                0.444672   \n",
       "4               22.70                0.076658                0.171412   \n",
       "\n",
       "   relative_velocity  miss_distance  is_hazardous  \n",
       "0       71745.401048   5.814362e+07         False  \n",
       "1      109949.757148   5.580105e+07          True  \n",
       "2       24865.506798   6.720689e+07         False  \n",
       "3       78890.076805   3.039644e+07         False  \n",
       "4       56036.519484   6.311863e+07         False  "
      ]
     },
     "execution_count": 6,
     "metadata": {},
     "output_type": "execute_result"
    }
   ],
   "source": [
    "df.head()"
   ]
  },
  {
   "cell_type": "code",
   "execution_count": 7,
   "id": "2303ec07-e68b-4a67-807b-40fb7db54a7d",
   "metadata": {
    "colab": {
     "base_uri": "https://localhost:8080/"
    },
    "id": "2303ec07-e68b-4a67-807b-40fb7db54a7d",
    "outputId": "b4184754-fd89-4600-e84c-8cb80acec339"
   },
   "outputs": [
    {
     "data": {
      "text/plain": [
       "5"
      ]
     },
     "execution_count": 7,
     "metadata": {},
     "output_type": "execute_result"
    }
   ],
   "source": [
    "df.duplicated().sum()"
   ]
  },
  {
   "cell_type": "code",
   "execution_count": 8,
   "id": "4587b4ae-2de1-4d8f-b3b2-085ad31409a7",
   "metadata": {
    "id": "4587b4ae-2de1-4d8f-b3b2-085ad31409a7"
   },
   "outputs": [],
   "source": [
    "df.drop_duplicates(inplace=True)"
   ]
  },
  {
   "cell_type": "code",
   "execution_count": 9,
   "id": "b081c068-9bb9-459d-8b5a-ed4af4ab9b77",
   "metadata": {
    "colab": {
     "base_uri": "https://localhost:8080/"
    },
    "id": "b081c068-9bb9-459d-8b5a-ed4af4ab9b77",
    "outputId": "fe2c1d8a-0faa-468b-a202-7de77b28204f"
   },
   "outputs": [
    {
     "name": "stdout",
     "output_type": "stream",
     "text": [
      "<class 'pandas.core.frame.DataFrame'>\n",
      "Index: 338194 entries, 0 to 338198\n",
      "Data columns (total 6 columns):\n",
      " #   Column                  Non-Null Count   Dtype  \n",
      "---  ------                  --------------   -----  \n",
      " 0   absolute_magnitude      338166 non-null  float64\n",
      " 1   estimated_diameter_min  338166 non-null  float64\n",
      " 2   estimated_diameter_max  338166 non-null  float64\n",
      " 3   relative_velocity       338194 non-null  float64\n",
      " 4   miss_distance           338194 non-null  float64\n",
      " 5   is_hazardous            338194 non-null  bool   \n",
      "dtypes: bool(1), float64(5)\n",
      "memory usage: 15.8 MB\n"
     ]
    }
   ],
   "source": [
    "df.info()"
   ]
  },
  {
   "cell_type": "code",
   "execution_count": 10,
   "id": "453c4e6f-5211-4111-b9a6-06da61466857",
   "metadata": {
    "colab": {
     "base_uri": "https://localhost:8080/",
     "height": 272
    },
    "id": "453c4e6f-5211-4111-b9a6-06da61466857",
    "outputId": "48e7576e-f8a5-493b-83dd-2a168e663698"
   },
   "outputs": [
    {
     "data": {
      "text/plain": [
       "absolute_magnitude        28\n",
       "estimated_diameter_min    28\n",
       "estimated_diameter_max    28\n",
       "relative_velocity          0\n",
       "miss_distance              0\n",
       "is_hazardous               0\n",
       "dtype: int64"
      ]
     },
     "execution_count": 10,
     "metadata": {},
     "output_type": "execute_result"
    }
   ],
   "source": [
    "df.isnull().sum()"
   ]
  },
  {
   "cell_type": "code",
   "execution_count": 11,
   "id": "47a7c82a-c394-4a6d-925b-e52072839b22",
   "metadata": {
    "id": "47a7c82a-c394-4a6d-925b-e52072839b22"
   },
   "outputs": [],
   "source": [
    "from sklearn.preprocessing import LabelEncoder\n",
    "le=LabelEncoder()\n",
    "df['is_hazardous']=le.fit_transform(df['is_hazardous'])"
   ]
  },
  {
   "cell_type": "code",
   "execution_count": 12,
   "id": "722892a1-814c-475d-9463-b8b8dda177e1",
   "metadata": {
    "colab": {
     "base_uri": "https://localhost:8080/",
     "height": 143
    },
    "id": "722892a1-814c-475d-9463-b8b8dda177e1",
    "outputId": "19d70bd9-1851-47a3-8506-0e9eb2f63d55"
   },
   "outputs": [
    {
     "data": {
      "text/html": [
       "<div>\n",
       "<style scoped>\n",
       "    .dataframe tbody tr th:only-of-type {\n",
       "        vertical-align: middle;\n",
       "    }\n",
       "\n",
       "    .dataframe tbody tr th {\n",
       "        vertical-align: top;\n",
       "    }\n",
       "\n",
       "    .dataframe thead th {\n",
       "        text-align: right;\n",
       "    }\n",
       "</style>\n",
       "<table border=\"1\" class=\"dataframe\">\n",
       "  <thead>\n",
       "    <tr style=\"text-align: right;\">\n",
       "      <th></th>\n",
       "      <th>absolute_magnitude</th>\n",
       "      <th>estimated_diameter_min</th>\n",
       "      <th>estimated_diameter_max</th>\n",
       "      <th>relative_velocity</th>\n",
       "      <th>miss_distance</th>\n",
       "      <th>is_hazardous</th>\n",
       "    </tr>\n",
       "  </thead>\n",
       "  <tbody>\n",
       "    <tr>\n",
       "      <th>234318</th>\n",
       "      <td>28.40</td>\n",
       "      <td>0.005553</td>\n",
       "      <td>0.012418</td>\n",
       "      <td>22692.556791</td>\n",
       "      <td>2.655785e+07</td>\n",
       "      <td>0</td>\n",
       "    </tr>\n",
       "    <tr>\n",
       "      <th>273539</th>\n",
       "      <td>19.36</td>\n",
       "      <td>0.356907</td>\n",
       "      <td>0.798068</td>\n",
       "      <td>86615.068821</td>\n",
       "      <td>2.381501e+07</td>\n",
       "      <td>0</td>\n",
       "    </tr>\n",
       "    <tr>\n",
       "      <th>192403</th>\n",
       "      <td>23.20</td>\n",
       "      <td>0.060891</td>\n",
       "      <td>0.136157</td>\n",
       "      <td>65614.789626</td>\n",
       "      <td>4.346811e+07</td>\n",
       "      <td>0</td>\n",
       "    </tr>\n",
       "  </tbody>\n",
       "</table>\n",
       "</div>"
      ],
      "text/plain": [
       "        absolute_magnitude  estimated_diameter_min  estimated_diameter_max  \\\n",
       "234318               28.40                0.005553                0.012418   \n",
       "273539               19.36                0.356907                0.798068   \n",
       "192403               23.20                0.060891                0.136157   \n",
       "\n",
       "        relative_velocity  miss_distance  is_hazardous  \n",
       "234318       22692.556791   2.655785e+07             0  \n",
       "273539       86615.068821   2.381501e+07             0  \n",
       "192403       65614.789626   4.346811e+07             0  "
      ]
     },
     "execution_count": 12,
     "metadata": {},
     "output_type": "execute_result"
    }
   ],
   "source": [
    "df.sample(3)"
   ]
  },
  {
   "cell_type": "code",
   "execution_count": 13,
   "id": "7e57ed77-7fc6-4055-8e6c-ed8d4733840a",
   "metadata": {
    "id": "7e57ed77-7fc6-4055-8e6c-ed8d4733840a"
   },
   "outputs": [],
   "source": [
    "X=df.drop('is_hazardous',axis=1)\n",
    "y=df['is_hazardous']"
   ]
  },
  {
   "cell_type": "code",
   "execution_count": 14,
   "id": "924e0677-1155-4c83-b7f0-9768539a2c34",
   "metadata": {
    "id": "924e0677-1155-4c83-b7f0-9768539a2c34"
   },
   "outputs": [],
   "source": [
    "from sklearn.model_selection import train_test_split\n",
    "X_train,X_test,y_train,y_test=train_test_split(X,y,test_size=0.2)"
   ]
  },
  {
   "cell_type": "code",
   "execution_count": 15,
   "id": "af7c9fec-1e89-4d47-ba6c-21416db52cf7",
   "metadata": {
    "id": "af7c9fec-1e89-4d47-ba6c-21416db52cf7"
   },
   "outputs": [],
   "source": [
    "from sklearn.impute import SimpleImputer\n",
    "from sklearn.preprocessing import StandardScaler, LabelEncoder\n",
    "from sklearn.pipeline import Pipeline\n",
    "from sklearn.compose import ColumnTransformer"
   ]
  },
  {
   "cell_type": "code",
   "execution_count": 16,
   "id": "fd46e0ab-0d8e-46fa-8f9f-93af7da7c5b8",
   "metadata": {
    "id": "fd46e0ab-0d8e-46fa-8f9f-93af7da7c5b8"
   },
   "outputs": [],
   "source": [
    "pipeline=Pipeline(steps=[('impute',SimpleImputer(strategy='median')),('scale',StandardScaler())])"
   ]
  },
  {
   "cell_type": "code",
   "execution_count": 17,
   "id": "0132dca5-4e33-4872-b485-3c34a2a0e87b",
   "metadata": {
    "colab": {
     "base_uri": "https://localhost:8080/"
    },
    "id": "0132dca5-4e33-4872-b485-3c34a2a0e87b",
    "outputId": "e203a4a3-b5f5-4285-8722-ffd55413f780"
   },
   "outputs": [
    {
     "data": {
      "text/plain": [
       "Index(['absolute_magnitude', 'estimated_diameter_min',\n",
       "       'estimated_diameter_max', 'relative_velocity', 'miss_distance'],\n",
       "      dtype='object')"
      ]
     },
     "execution_count": 17,
     "metadata": {},
     "output_type": "execute_result"
    }
   ],
   "source": [
    "X_train.columns"
   ]
  },
  {
   "cell_type": "code",
   "execution_count": 18,
   "id": "f1f1440b-07c9-4feb-b031-2febcca748d5",
   "metadata": {
    "id": "f1f1440b-07c9-4feb-b031-2febcca748d5"
   },
   "outputs": [],
   "source": [
    "preprocessor=ColumnTransformer([('pipeline',pipeline,X_train.columns)])"
   ]
  },
  {
   "cell_type": "code",
   "execution_count": 19,
   "id": "3700625b-3695-4733-9620-dab2fd729841",
   "metadata": {
    "id": "3700625b-3695-4733-9620-dab2fd729841"
   },
   "outputs": [],
   "source": [
    "X_train=preprocessor.fit_transform(X_train)\n",
    "X_test=preprocessor.transform(X_test)"
   ]
  },
  {
   "cell_type": "code",
   "execution_count": 20,
   "id": "c4e7bfc8-621f-43bb-b91b-90ace1a7645c",
   "metadata": {
    "colab": {
     "base_uri": "https://localhost:8080/"
    },
    "id": "c4e7bfc8-621f-43bb-b91b-90ace1a7645c",
    "outputId": "fe207902-fa63-4305-c5ba-4464036bc3dc"
   },
   "outputs": [
    {
     "data": {
      "text/plain": [
       "(array([[ 1.42845498, -0.45525876, -0.45525876,  0.78520404,  0.17841367],\n",
       "        [-0.38843845, -0.12961661, -0.12961661,  0.18686413, -1.52498931],\n",
       "        [-0.53612544, -0.05146635, -0.05146635, -1.03967228,  0.07426034],\n",
       "        ...,\n",
       "        [-0.72159282,  0.07135246,  0.07135246,  1.7775149 ,  1.58661808],\n",
       "        [ 0.08209917, -0.29659195, -0.29659195,  0.23668238,  0.94281846],\n",
       "        [ 1.36319794, -0.4524035 , -0.4524035 , -0.79633166,  1.17933901]]),\n",
       " array([[ 1.3151138 , -0.45013387, -0.45013387,  0.38713772,  0.57584463],\n",
       "        [ 0.33282359, -0.35080685, -0.35080686,  0.42305246, -0.02788028],\n",
       "        [-0.5258217 , -0.05743501, -0.05743501,  0.80050905, -0.54833469],\n",
       "        ...,\n",
       "        [ 2.03637584, -0.47266412, -0.47266412, -1.31310437, -0.49241736],\n",
       "        [-0.04498034, -0.26131593, -0.26131593,  0.32319751,  0.86489621],\n",
       "        [-1.17839212,  0.54273295,  0.54273295, -1.71956171,  1.39122677]]))"
      ]
     },
     "execution_count": 20,
     "metadata": {},
     "output_type": "execute_result"
    }
   ],
   "source": [
    "X_train,X_test"
   ]
  },
  {
   "cell_type": "code",
   "execution_count": 21,
   "id": "da3804b0-7716-4733-9459-0a24d913df17",
   "metadata": {
    "id": "da3804b0-7716-4733-9459-0a24d913df17"
   },
   "outputs": [],
   "source": [
    "import tensorflow as tf\n",
    "from tensorflow.keras.models import Sequential\n",
    "from tensorflow.keras.layers import Dense\n",
    "from tensorflow.keras.callbacks import EarlyStopping"
   ]
  },
  {
   "cell_type": "code",
   "execution_count": 22,
   "id": "c5d93c5a-2f21-487b-a7da-a8c92f01dd9f",
   "metadata": {
    "colab": {
     "base_uri": "https://localhost:8080/"
    },
    "id": "c5d93c5a-2f21-487b-a7da-a8c92f01dd9f",
    "outputId": "fa34c898-8ccc-430f-ef77-78c220e6d438"
   },
   "outputs": [
    {
     "name": "stderr",
     "output_type": "stream",
     "text": [
      "/opt/miniconda3/lib/python3.11/site-packages/keras/src/layers/core/dense.py:87: UserWarning: Do not pass an `input_shape`/`input_dim` argument to a layer. When using Sequential models, prefer using an `Input(shape)` object as the first layer in the model instead.\n",
      "  super().__init__(activity_regularizer=activity_regularizer, **kwargs)\n",
      "2024-08-31 07:18:18.161793: I metal_plugin/src/device/metal_device.cc:1154] Metal device set to: Apple M2 Pro\n",
      "2024-08-31 07:18:18.161865: I metal_plugin/src/device/metal_device.cc:296] systemMemory: 16.00 GB\n",
      "2024-08-31 07:18:18.161883: I metal_plugin/src/device/metal_device.cc:313] maxCacheSize: 5.33 GB\n",
      "2024-08-31 07:18:18.162007: I tensorflow/core/common_runtime/pluggable_device/pluggable_device_factory.cc:306] Could not identify NUMA node of platform GPU ID 0, defaulting to 0. Your kernel may not have been built with NUMA support.\n",
      "2024-08-31 07:18:18.162084: I tensorflow/core/common_runtime/pluggable_device/pluggable_device_factory.cc:272] Created TensorFlow device (/job:localhost/replica:0/task:0/device:GPU:0 with 0 MB memory) -> physical PluggableDevice (device: 0, name: METAL, pci bus id: <undefined>)\n"
     ]
    }
   ],
   "source": [
    "model=Sequential()\n",
    "model.add(Dense(64,activation='relu',input_shape=(X_train.shape[1],)))\n",
    "model.add(Dense(32,activation='relu'))\n",
    "model.add(Dense(32,activation='relu'))\n",
    "model.add(Dense(16,activation='relu'))\n",
    "model.add(Dense(1,activation='sigmoid'))"
   ]
  },
  {
   "cell_type": "code",
   "execution_count": 23,
   "id": "4a9ae91e-6222-432d-a40f-05533d236b71",
   "metadata": {
    "colab": {
     "base_uri": "https://localhost:8080/",
     "height": 298
    },
    "id": "4a9ae91e-6222-432d-a40f-05533d236b71",
    "outputId": "8de4f5f9-d024-4e69-ad7c-61ac0ede58b4"
   },
   "outputs": [
    {
     "data": {
      "text/html": [
       "<pre style=\"white-space:pre;overflow-x:auto;line-height:normal;font-family:Menlo,'DejaVu Sans Mono',consolas,'Courier New',monospace\"><span style=\"font-weight: bold\">Model: \"sequential\"</span>\n",
       "</pre>\n"
      ],
      "text/plain": [
       "\u001b[1mModel: \"sequential\"\u001b[0m\n"
      ]
     },
     "metadata": {},
     "output_type": "display_data"
    },
    {
     "data": {
      "text/html": [
       "<pre style=\"white-space:pre;overflow-x:auto;line-height:normal;font-family:Menlo,'DejaVu Sans Mono',consolas,'Courier New',monospace\">┏━━━━━━━━━━━━━━━━━━━━━━━━━━━━━━━━━┳━━━━━━━━━━━━━━━━━━━━━━━━┳━━━━━━━━━━━━━━━┓\n",
       "┃<span style=\"font-weight: bold\"> Layer (type)                    </span>┃<span style=\"font-weight: bold\"> Output Shape           </span>┃<span style=\"font-weight: bold\">       Param # </span>┃\n",
       "┡━━━━━━━━━━━━━━━━━━━━━━━━━━━━━━━━━╇━━━━━━━━━━━━━━━━━━━━━━━━╇━━━━━━━━━━━━━━━┩\n",
       "│ dense (<span style=\"color: #0087ff; text-decoration-color: #0087ff\">Dense</span>)                   │ (<span style=\"color: #00d7ff; text-decoration-color: #00d7ff\">None</span>, <span style=\"color: #00af00; text-decoration-color: #00af00\">64</span>)             │           <span style=\"color: #00af00; text-decoration-color: #00af00\">384</span> │\n",
       "├─────────────────────────────────┼────────────────────────┼───────────────┤\n",
       "│ dense_1 (<span style=\"color: #0087ff; text-decoration-color: #0087ff\">Dense</span>)                 │ (<span style=\"color: #00d7ff; text-decoration-color: #00d7ff\">None</span>, <span style=\"color: #00af00; text-decoration-color: #00af00\">32</span>)             │         <span style=\"color: #00af00; text-decoration-color: #00af00\">2,080</span> │\n",
       "├─────────────────────────────────┼────────────────────────┼───────────────┤\n",
       "│ dense_2 (<span style=\"color: #0087ff; text-decoration-color: #0087ff\">Dense</span>)                 │ (<span style=\"color: #00d7ff; text-decoration-color: #00d7ff\">None</span>, <span style=\"color: #00af00; text-decoration-color: #00af00\">32</span>)             │         <span style=\"color: #00af00; text-decoration-color: #00af00\">1,056</span> │\n",
       "├─────────────────────────────────┼────────────────────────┼───────────────┤\n",
       "│ dense_3 (<span style=\"color: #0087ff; text-decoration-color: #0087ff\">Dense</span>)                 │ (<span style=\"color: #00d7ff; text-decoration-color: #00d7ff\">None</span>, <span style=\"color: #00af00; text-decoration-color: #00af00\">16</span>)             │           <span style=\"color: #00af00; text-decoration-color: #00af00\">528</span> │\n",
       "├─────────────────────────────────┼────────────────────────┼───────────────┤\n",
       "│ dense_4 (<span style=\"color: #0087ff; text-decoration-color: #0087ff\">Dense</span>)                 │ (<span style=\"color: #00d7ff; text-decoration-color: #00d7ff\">None</span>, <span style=\"color: #00af00; text-decoration-color: #00af00\">1</span>)              │            <span style=\"color: #00af00; text-decoration-color: #00af00\">17</span> │\n",
       "└─────────────────────────────────┴────────────────────────┴───────────────┘\n",
       "</pre>\n"
      ],
      "text/plain": [
       "┏━━━━━━━━━━━━━━━━━━━━━━━━━━━━━━━━━┳━━━━━━━━━━━━━━━━━━━━━━━━┳━━━━━━━━━━━━━━━┓\n",
       "┃\u001b[1m \u001b[0m\u001b[1mLayer (type)                   \u001b[0m\u001b[1m \u001b[0m┃\u001b[1m \u001b[0m\u001b[1mOutput Shape          \u001b[0m\u001b[1m \u001b[0m┃\u001b[1m \u001b[0m\u001b[1m      Param #\u001b[0m\u001b[1m \u001b[0m┃\n",
       "┡━━━━━━━━━━━━━━━━━━━━━━━━━━━━━━━━━╇━━━━━━━━━━━━━━━━━━━━━━━━╇━━━━━━━━━━━━━━━┩\n",
       "│ dense (\u001b[38;5;33mDense\u001b[0m)                   │ (\u001b[38;5;45mNone\u001b[0m, \u001b[38;5;34m64\u001b[0m)             │           \u001b[38;5;34m384\u001b[0m │\n",
       "├─────────────────────────────────┼────────────────────────┼───────────────┤\n",
       "│ dense_1 (\u001b[38;5;33mDense\u001b[0m)                 │ (\u001b[38;5;45mNone\u001b[0m, \u001b[38;5;34m32\u001b[0m)             │         \u001b[38;5;34m2,080\u001b[0m │\n",
       "├─────────────────────────────────┼────────────────────────┼───────────────┤\n",
       "│ dense_2 (\u001b[38;5;33mDense\u001b[0m)                 │ (\u001b[38;5;45mNone\u001b[0m, \u001b[38;5;34m32\u001b[0m)             │         \u001b[38;5;34m1,056\u001b[0m │\n",
       "├─────────────────────────────────┼────────────────────────┼───────────────┤\n",
       "│ dense_3 (\u001b[38;5;33mDense\u001b[0m)                 │ (\u001b[38;5;45mNone\u001b[0m, \u001b[38;5;34m16\u001b[0m)             │           \u001b[38;5;34m528\u001b[0m │\n",
       "├─────────────────────────────────┼────────────────────────┼───────────────┤\n",
       "│ dense_4 (\u001b[38;5;33mDense\u001b[0m)                 │ (\u001b[38;5;45mNone\u001b[0m, \u001b[38;5;34m1\u001b[0m)              │            \u001b[38;5;34m17\u001b[0m │\n",
       "└─────────────────────────────────┴────────────────────────┴───────────────┘\n"
      ]
     },
     "metadata": {},
     "output_type": "display_data"
    },
    {
     "data": {
      "text/html": [
       "<pre style=\"white-space:pre;overflow-x:auto;line-height:normal;font-family:Menlo,'DejaVu Sans Mono',consolas,'Courier New',monospace\"><span style=\"font-weight: bold\"> Total params: </span><span style=\"color: #00af00; text-decoration-color: #00af00\">4,065</span> (15.88 KB)\n",
       "</pre>\n"
      ],
      "text/plain": [
       "\u001b[1m Total params: \u001b[0m\u001b[38;5;34m4,065\u001b[0m (15.88 KB)\n"
      ]
     },
     "metadata": {},
     "output_type": "display_data"
    },
    {
     "data": {
      "text/html": [
       "<pre style=\"white-space:pre;overflow-x:auto;line-height:normal;font-family:Menlo,'DejaVu Sans Mono',consolas,'Courier New',monospace\"><span style=\"font-weight: bold\"> Trainable params: </span><span style=\"color: #00af00; text-decoration-color: #00af00\">4,065</span> (15.88 KB)\n",
       "</pre>\n"
      ],
      "text/plain": [
       "\u001b[1m Trainable params: \u001b[0m\u001b[38;5;34m4,065\u001b[0m (15.88 KB)\n"
      ]
     },
     "metadata": {},
     "output_type": "display_data"
    },
    {
     "data": {
      "text/html": [
       "<pre style=\"white-space:pre;overflow-x:auto;line-height:normal;font-family:Menlo,'DejaVu Sans Mono',consolas,'Courier New',monospace\"><span style=\"font-weight: bold\"> Non-trainable params: </span><span style=\"color: #00af00; text-decoration-color: #00af00\">0</span> (0.00 B)\n",
       "</pre>\n"
      ],
      "text/plain": [
       "\u001b[1m Non-trainable params: \u001b[0m\u001b[38;5;34m0\u001b[0m (0.00 B)\n"
      ]
     },
     "metadata": {},
     "output_type": "display_data"
    }
   ],
   "source": [
    "model.summary()"
   ]
  },
  {
   "cell_type": "code",
   "execution_count": 24,
   "id": "9311fe54-32f1-4c98-a398-b855d7a6556e",
   "metadata": {
    "id": "9311fe54-32f1-4c98-a398-b855d7a6556e"
   },
   "outputs": [],
   "source": [
    "model.compile(optimizer='adam',loss='binary_crossentropy',metrics=['accuracy'])"
   ]
  },
  {
   "cell_type": "code",
   "execution_count": 25,
   "id": "HlDWkXdg6wa-",
   "metadata": {
    "id": "HlDWkXdg6wa-"
   },
   "outputs": [],
   "source": [
    "early_stopping = EarlyStopping(\n",
    "    monitor='val_loss',\n",
    "    patience=3,\n",
    "    restore_best_weights=True\n",
    ")"
   ]
  },
  {
   "cell_type": "code",
   "execution_count": 26,
   "id": "aeed510b-1645-4883-b6ff-4fd4ad2ba447",
   "metadata": {
    "colab": {
     "base_uri": "https://localhost:8080/"
    },
    "id": "aeed510b-1645-4883-b6ff-4fd4ad2ba447",
    "outputId": "20d96717-c74d-4898-e3be-5dddb38acd87"
   },
   "outputs": [
    {
     "name": "stdout",
     "output_type": "stream",
     "text": [
      "Epoch 1/100\n"
     ]
    },
    {
     "name": "stderr",
     "output_type": "stream",
     "text": [
      "2024-08-31 07:18:38.765157: I tensorflow/core/grappler/optimizers/custom_graph_optimizer_registry.cc:117] Plugin optimizer for device_type GPU is enabled.\n"
     ]
    },
    {
     "name": "stdout",
     "output_type": "stream",
     "text": [
      "\u001b[1m423/423\u001b[0m \u001b[32m━━━━━━━━━━━━━━━━━━━━\u001b[0m\u001b[37m\u001b[0m \u001b[1m7s\u001b[0m 11ms/step - accuracy: 0.8686 - loss: 0.3462 - val_accuracy: 0.8846 - val_loss: 0.2417\n",
      "Epoch 2/100\n",
      "\u001b[1m423/423\u001b[0m \u001b[32m━━━━━━━━━━━━━━━━━━━━\u001b[0m\u001b[37m\u001b[0m \u001b[1m4s\u001b[0m 9ms/step - accuracy: 0.8835 - loss: 0.2437 - val_accuracy: 0.8857 - val_loss: 0.2394\n",
      "Epoch 3/100\n",
      "\u001b[1m423/423\u001b[0m \u001b[32m━━━━━━━━━━━━━━━━━━━━\u001b[0m\u001b[37m\u001b[0m \u001b[1m4s\u001b[0m 9ms/step - accuracy: 0.8843 - loss: 0.2409 - val_accuracy: 0.8860 - val_loss: 0.2380\n",
      "Epoch 4/100\n",
      "\u001b[1m423/423\u001b[0m \u001b[32m━━━━━━━━━━━━━━━━━━━━\u001b[0m\u001b[37m\u001b[0m \u001b[1m4s\u001b[0m 10ms/step - accuracy: 0.8846 - loss: 0.2403 - val_accuracy: 0.8854 - val_loss: 0.2377\n",
      "Epoch 5/100\n",
      "\u001b[1m423/423\u001b[0m \u001b[32m━━━━━━━━━━━━━━━━━━━━\u001b[0m\u001b[37m\u001b[0m \u001b[1m4s\u001b[0m 9ms/step - accuracy: 0.8845 - loss: 0.2395 - val_accuracy: 0.8862 - val_loss: 0.2371\n",
      "Epoch 6/100\n",
      "\u001b[1m423/423\u001b[0m \u001b[32m━━━━━━━━━━━━━━━━━━━━\u001b[0m\u001b[37m\u001b[0m \u001b[1m4s\u001b[0m 9ms/step - accuracy: 0.8845 - loss: 0.2399 - val_accuracy: 0.8860 - val_loss: 0.2378\n",
      "Epoch 7/100\n",
      "\u001b[1m423/423\u001b[0m \u001b[32m━━━━━━━━━━━━━━━━━━━━\u001b[0m\u001b[37m\u001b[0m \u001b[1m4s\u001b[0m 10ms/step - accuracy: 0.8855 - loss: 0.2376 - val_accuracy: 0.8859 - val_loss: 0.2374\n",
      "Epoch 8/100\n",
      "\u001b[1m423/423\u001b[0m \u001b[32m━━━━━━━━━━━━━━━━━━━━\u001b[0m\u001b[37m\u001b[0m \u001b[1m4s\u001b[0m 9ms/step - accuracy: 0.8856 - loss: 0.2393 - val_accuracy: 0.8867 - val_loss: 0.2367\n",
      "Epoch 9/100\n",
      "\u001b[1m423/423\u001b[0m \u001b[32m━━━━━━━━━━━━━━━━━━━━\u001b[0m\u001b[37m\u001b[0m \u001b[1m4s\u001b[0m 9ms/step - accuracy: 0.8837 - loss: 0.2401 - val_accuracy: 0.8865 - val_loss: 0.2364\n",
      "Epoch 10/100\n",
      "\u001b[1m423/423\u001b[0m \u001b[32m━━━━━━━━━━━━━━━━━━━━\u001b[0m\u001b[37m\u001b[0m \u001b[1m4s\u001b[0m 9ms/step - accuracy: 0.8833 - loss: 0.2408 - val_accuracy: 0.8860 - val_loss: 0.2365\n",
      "Epoch 11/100\n",
      "\u001b[1m423/423\u001b[0m \u001b[32m━━━━━━━━━━━━━━━━━━━━\u001b[0m\u001b[37m\u001b[0m \u001b[1m4s\u001b[0m 9ms/step - accuracy: 0.8849 - loss: 0.2398 - val_accuracy: 0.8869 - val_loss: 0.2365\n",
      "Epoch 12/100\n",
      "\u001b[1m423/423\u001b[0m \u001b[32m━━━━━━━━━━━━━━━━━━━━\u001b[0m\u001b[37m\u001b[0m \u001b[1m4s\u001b[0m 9ms/step - accuracy: 0.8840 - loss: 0.2393 - val_accuracy: 0.8866 - val_loss: 0.2362\n",
      "Epoch 13/100\n",
      "\u001b[1m423/423\u001b[0m \u001b[32m━━━━━━━━━━━━━━━━━━━━\u001b[0m\u001b[37m\u001b[0m \u001b[1m4s\u001b[0m 9ms/step - accuracy: 0.8854 - loss: 0.2373 - val_accuracy: 0.8866 - val_loss: 0.2370\n",
      "Epoch 14/100\n",
      "\u001b[1m423/423\u001b[0m \u001b[32m━━━━━━━━━━━━━━━━━━━━\u001b[0m\u001b[37m\u001b[0m \u001b[1m4s\u001b[0m 9ms/step - accuracy: 0.8850 - loss: 0.2379 - val_accuracy: 0.8855 - val_loss: 0.2386\n",
      "Epoch 15/100\n",
      "\u001b[1m423/423\u001b[0m \u001b[32m━━━━━━━━━━━━━━━━━━━━\u001b[0m\u001b[37m\u001b[0m \u001b[1m4s\u001b[0m 9ms/step - accuracy: 0.8853 - loss: 0.2379 - val_accuracy: 0.8865 - val_loss: 0.2364\n"
     ]
    }
   ],
   "source": [
    "history=model.fit(X_train,y_train,epochs=100,batch_size=512,validation_split=0.2,callbacks=[early_stopping])"
   ]
  },
  {
   "cell_type": "code",
   "execution_count": 27,
   "id": "7a5fde2e-ade3-4ef3-b004-95f0a1581f08",
   "metadata": {
    "colab": {
     "base_uri": "https://localhost:8080/"
    },
    "id": "7a5fde2e-ade3-4ef3-b004-95f0a1581f08",
    "outputId": "d0d7e863-c83f-4eaf-bc49-e6efdc6163c3"
   },
   "outputs": [
    {
     "name": "stdout",
     "output_type": "stream",
     "text": [
      "\u001b[1m2114/2114\u001b[0m \u001b[32m━━━━━━━━━━━━━━━━━━━━\u001b[0m\u001b[37m\u001b[0m \u001b[1m2s\u001b[0m 909us/step\n"
     ]
    }
   ],
   "source": [
    "y_pred=model.predict(X_test)"
   ]
  },
  {
   "cell_type": "code",
   "execution_count": 28,
   "id": "b8f6fd50-235e-411a-a5e9-4ae4c45eac21",
   "metadata": {
    "id": "b8f6fd50-235e-411a-a5e9-4ae4c45eac21"
   },
   "outputs": [],
   "source": [
    "y_pred=(y_pred>0.5).astype(int)"
   ]
  },
  {
   "cell_type": "code",
   "execution_count": 29,
   "id": "cae9f2b8-f025-4eba-9774-2e16c27fe23e",
   "metadata": {
    "colab": {
     "base_uri": "https://localhost:8080/"
    },
    "id": "cae9f2b8-f025-4eba-9774-2e16c27fe23e",
    "outputId": "42886a08-d1f3-433c-acb8-64492bd20397"
   },
   "outputs": [
    {
     "data": {
      "text/plain": [
       "array([[0],\n",
       "       [0],\n",
       "       [0],\n",
       "       ...,\n",
       "       [0],\n",
       "       [0],\n",
       "       [0]])"
      ]
     },
     "execution_count": 29,
     "metadata": {},
     "output_type": "execute_result"
    }
   ],
   "source": [
    "y_pred"
   ]
  },
  {
   "cell_type": "code",
   "execution_count": 30,
   "id": "374bdf37-7f2f-4fda-b43b-a65a0c4b839b",
   "metadata": {
    "colab": {
     "base_uri": "https://localhost:8080/"
    },
    "id": "374bdf37-7f2f-4fda-b43b-a65a0c4b839b",
    "outputId": "5ac0b446-2baa-453f-eb11-9b851975c7b9"
   },
   "outputs": [
    {
     "data": {
      "text/plain": [
       "0.8858942326172771"
      ]
     },
     "execution_count": 30,
     "metadata": {},
     "output_type": "execute_result"
    }
   ],
   "source": [
    "from sklearn.metrics import accuracy_score\n",
    "accuracy_score(y_test,y_pred)"
   ]
  },
  {
   "cell_type": "code",
   "execution_count": 31,
   "id": "h1Orue-L78-d",
   "metadata": {
    "colab": {
     "base_uri": "https://localhost:8080/"
    },
    "id": "h1Orue-L78-d",
    "outputId": "55bd2124-4066-40ba-ac0c-8ad812b8a15e"
   },
   "outputs": [
    {
     "name": "stdout",
     "output_type": "stream",
     "text": [
      "\u001b[1m2114/2114\u001b[0m \u001b[32m━━━━━━━━━━━━━━━━━━━━\u001b[0m\u001b[37m\u001b[0m \u001b[1m6s\u001b[0m 3ms/step - accuracy: 0.8885 - loss: 0.2337\n",
      "Test Loss: 0.23711398243904114\n",
      "Test Accuracy: 0.885894238948822\n"
     ]
    }
   ],
   "source": [
    "loss,accuracy=model.evaluate(X_test,y_test)\n",
    "print(f\"Test Loss: {loss}\")\n",
    "print(f\"Test Accuracy: {accuracy}\")"
   ]
  }
 ],
 "metadata": {
  "accelerator": "GPU",
  "colab": {
   "gpuType": "T4",
   "provenance": []
  },
  "kernelspec": {
   "display_name": "Python 3 (ipykernel)",
   "language": "python",
   "name": "python3"
  },
  "language_info": {
   "codemirror_mode": {
    "name": "ipython",
    "version": 3
   },
   "file_extension": ".py",
   "mimetype": "text/x-python",
   "name": "python",
   "nbconvert_exporter": "python",
   "pygments_lexer": "ipython3",
   "version": "3.11.9"
  }
 },
 "nbformat": 4,
 "nbformat_minor": 5
}
